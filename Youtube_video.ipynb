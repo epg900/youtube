{
  "nbformat": 4,
  "nbformat_minor": 0,
  "metadata": {
    "colab": {
      "provenance": [],
      "authorship_tag": "ABX9TyNKndpSarc0ozrTnTMqEeKm",
      "include_colab_link": true
    },
    "kernelspec": {
      "name": "python3",
      "display_name": "Python 3"
    },
    "language_info": {
      "name": "python"
    }
  },
  "cells": [
    {
      "cell_type": "markdown",
      "metadata": {
        "id": "view-in-github",
        "colab_type": "text"
      },
      "source": [
        "<a href=\"https://colab.research.google.com/github/epg900/youtube/blob/main/Youtube_video.ipynb\" target=\"_parent\"><img src=\"https://colab.research.google.com/assets/colab-badge.svg\" alt=\"Open In Colab\"/></a>"
      ]
    },
    {
      "cell_type": "code",
      "execution_count": null,
      "metadata": {
        "cellView": "form",
        "id": "Td6yGjCtrGBy"
      },
      "outputs": [],
      "source": [
        "# @title Youtube download Server\n",
        "addr = \"\" # @param {type:\"string\"}\n",
        "print('please wait ...')\n",
        "import os, re\n",
        "from subprocess import Popen, PIPE\n",
        "os.system('pip install yt-dlp')\n",
        "os.system(f'yt-dlp -f 18 -o a.mp4 {addr}')\n",
        "os.system('apt install nginx')\n",
        "os.system('cp a.mp4 /var/www/html/a.mp4')\n",
        "txt=''\n",
        "with open('/etc/nginx/sites-enabled/default','r') as f:\n",
        " txt=f.read()\n",
        "txt2=txt.replace('index index.html index.htm','index a.mp4 index.html index.htm')\n",
        "\n",
        "with open('/etc/nginx/sites-enabled/default','w') as f:\n",
        " f.write(txt2)\n",
        "os.system('service nginx restart')\n",
        "\n",
        "Popen(\"python -m http.server\".split(), stdout=PIPE)\n",
        "process = Popen(\"ssh -p 443 -R0:localhost:80 a.pinggy.io -o StrictHostKeyChecking=no \".split(), stdout=PIPE)\n",
        "output = str(process.stdout.readline())\n",
        "output += str(process.stdout.readline())\n",
        "output += str(process.stdout.readline())\n",
        "output += str(process.stdout.readline())\n",
        "addr1=re.findall(\"(https://.*?\\.a\\.free\\.pinggy\\.online)\",output)\n",
        "url=addr1[1]\n",
        "print(url)"
      ]
    }
  ]
}